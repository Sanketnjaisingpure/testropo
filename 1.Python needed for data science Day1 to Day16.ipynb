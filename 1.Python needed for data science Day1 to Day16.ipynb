{
 "cells": [
  {
   "cell_type": "markdown",
   "id": "b30a30d4",
   "metadata": {},
   "source": [
    "## Day 1"
   ]
  },
  {
   "cell_type": "code",
   "execution_count": null,
   "id": "43e7c439",
   "metadata": {},
   "outputs": [],
   "source": [
    "# 0n Day 1 there is only introduction of data science and why it is neccesary"
   ]
  },
  {
   "cell_type": "markdown",
   "id": "1e050ba5",
   "metadata": {},
   "source": [
    "## Day 2"
   ]
  },
  {
   "cell_type": "raw",
   "id": "e75af6a3",
   "metadata": {},
   "source": [
    "#Introduction of python\n",
    "#python is made by \"Duido Van Rossum\" during 1987 to 1991.\n",
    "#It is platform independent langauge.\n",
    "#It is open source language and published under license\"Python SoftWare foundation Licence\"(PSFL)\n",
    "#API=Application Programming Interface\n",
    "#PiPy(Python package Index):it is used to find ,install and published external library e.g pandas,seaborn\n",
    "#python is lossely type langauge or dynamically type langauge : the variable are not be declared using any data type e.g a=10 or a=2.4"
   ]
  },
  {
   "cell_type": "markdown",
   "id": "315683d5",
   "metadata": {},
   "source": [
    "## Day3"
   ]
  },
  {
   "cell_type": "raw",
   "id": "1bc15d83",
   "metadata": {},
   "source": [
    "#In python 2 print is a statement as well as function\n",
    "#but in python 3 it is only function\n",
    "e.g print \"hello \" it can be used as statement in python 2\n",
    "    print(\"hello\") it can also be used as function  in python 2\n",
    "    \n",
    "    print(\" hello\") in python 3 it is only used as fuction\n",
    "output: hello\n",
    "#along with python language there are 3 important software tools or supporting program \"pip\",\"setuptools\",\"wheel\" that are   needed for python on windows,linux and mac resptively.\n"
   ]
  },
  {
   "cell_type": "markdown",
   "id": "a92d32a7",
   "metadata": {},
   "source": [
    "## Day4"
   ]
  },
  {
   "cell_type": "raw",
   "id": "eb4cd65b",
   "metadata": {},
   "source": [
    "#Sevral way to use python \n",
    "1 CLI: (command line interface) -Interactive python e.g cmd\n",
    "2.GUI:(Graphical user interface)-IDE\n"
   ]
  },
  {
   "cell_type": "raw",
   "id": "31b163c0",
   "metadata": {},
   "source": [
    "#Fundamental of python\n",
    "1.Data types of python\n",
    "-there are five data types of python\n",
    "a.Boolean data type-True and False\n",
    "b.Numeric data type-int,float,double,long\n",
    "c.Sequence data type-string,bytes ,byte array , list and tuple\n",
    "d.Set data type-set,frozen set\n",
    "e.Mapping data type-dict(dictionary)"
   ]
  },
  {
   "cell_type": "raw",
   "id": "4dbb8a3c",
   "metadata": {},
   "source": [
    "All data types of python are of two type by its nature- Mutable and non-Mutable\n",
    "1.Mutable type-this data type which can be change during program runtime e.g list,set,dict,byte array\n",
    "2.Non-Mutable type- this data type which can not be change during program runtime e.g int,long ,float,double,string,tuple\n",
    "list=[1,2,3,4];tuple=(1,2,3,4,5,6),string=\"sanket\",int=2,float=2.5,set={1,2,3,4,5},dict={a:'sanket',b:'om'} boolean=False or True \n",
    "In python there is 35 keyword's\n"
   ]
  },
  {
   "cell_type": "markdown",
   "id": "1ac2658a",
   "metadata": {},
   "source": [
    "## Day5"
   ]
  },
  {
   "cell_type": "raw",
   "id": "e5abd84f",
   "metadata": {},
   "source": [
    "Variable:it is used to store data type in the memory,here  python is lossely type  langauge hence it variable are not be delecare in using data type\n",
    "e.g a=23 (int data type)\n",
    "a='string' (string data type')\n",
    "Special symbol is not allowed in the variable name except _(underscore)\n",
    "e.g __rad=23 \n",
    "rad_no=34\n",
    "cvv__=567\n",
    "__date=23\n",
    "\n",
    " All this above variable is allowed \n",
    "Blank spaces are sticktly allowed\n",
    "emp no=23 (it will gives you error)\n",
    "Variable should follow camelcase system i.e it will start from small case\n"
   ]
  },
  {
   "cell_type": "raw",
   "id": "4856c66c",
   "metadata": {},
   "source": [
    "Operator\n",
    "1.Arithmetic Operator or Math Operator\n",
    "+(addition),-(subtraction),*(multiplication),%(modulous),/(division),//(floor division),**(exponent or raised to)\n",
    "1+2=3\n",
    "2-1=1\n",
    "2*1=2\n",
    "2/2=1\n",
    "123%10=3\n",
    "123/10=12.3\n",
    "123//10=12\n",
    "3*3=9\n",
    "3**3=27\n"
   ]
  },
  {
   "cell_type": "raw",
   "id": "7de5b30a",
   "metadata": {},
   "source": [
    "2.Comparision operator : it is used to compare two variable , here it return boolean value i.e True or False\n",
    ">,<,>=,<=,!=,==\n",
    "3.Logical Operator: it is used to compare two variable \n",
    "and ,or ,not we use this as word, but not in the form of symbol"
   ]
  },
  {
   "cell_type": "raw",
   "id": "6f6c464e",
   "metadata": {},
   "source": [
    "4.Assingment Operator: +=,-=,*=,/=,//=,**=\n",
    "e.g a+=1,a-=1,a*=1,a/=1,a//=1,a**=1"
   ]
  },
  {
   "cell_type": "raw",
   "id": "54084f5d",
   "metadata": {},
   "source": [
    "5.Bitwise Operator:\n",
    "Bitwise and operator &\n",
    "Bitwise or\n",
    "Bitwise not\n",
    "complement operator ~\n",
    ">> right shift\n",
    "1001 0010 >>2\n",
    "ans->1010 0100\n"
   ]
  },
  {
   "cell_type": "raw",
   "id": "9699bc3a",
   "metadata": {},
   "source": [
    "MemeberShip Operator(Searching Operator): in ,not in\n",
    "this operator check a data return true or false"
   ]
  },
  {
   "cell_type": "raw",
   "id": "8a0dc2bd",
   "metadata": {},
   "source": [
    "Python has 5 type of collection in class\n",
    "string,list,tuple,dict,set\n",
    "\n",
    "str=\"sanket\"\n",
    "list=[1,2,3,4] Dynamic\n",
    "dict={1:'1,2,3',2:'4,5,6'}\n",
    "tuple=(1,2,3,4,5) static\n",
    "set={1,2,3,4,5}"
   ]
  },
  {
   "cell_type": "raw",
   "id": "4041d916",
   "metadata": {},
   "source": [
    "Identity Operator:\n",
    "it is used to check identity operator during runtime.\n",
    "1.is 2.not is \n",
    "e.g \n",
    "class Student:\n",
    "    pass\n",
    "class Teacher:\n",
    "    pass\n",
    "Student s\n",
    "Teacher t\n",
    "s is Student -->True\n",
    "t is Teacher --> False\n",
    "s is not Student -->False\n"
   ]
  },
  {
   "cell_type": "raw",
   "id": "97a7c04e",
   "metadata": {},
   "source": [
    "Comment in Python\n",
    "comment are not executable  part of program\n",
    "#THIS IS A COMMENT , GIVEN BY \"#\"\n",
    "THIS IS A COMMENT\n",
    "\"\"\" THIS IS A COMMENT\"\"\""
   ]
  },
  {
   "cell_type": "raw",
   "id": "3c8ca95a",
   "metadata": {},
   "source": [
    "There are 35 keywords in  the python are all in the small case, except [True,False,None]"
   ]
  },
  {
   "cell_type": "markdown",
   "id": "2a56600f",
   "metadata": {},
   "source": [
    "## Day6\n"
   ]
  },
  {
   "cell_type": "raw",
   "id": "85bd8698",
   "metadata": {},
   "source": [
    "If we want to declear all the variable in the same line then we need to use semicolon [;] or we can say semicolon is statement seperator in python\n",
    "IMP- variable need not be declared before use.\n"
   ]
  },
  {
   "cell_type": "raw",
   "id": "9ec17517",
   "metadata": {},
   "source": [
    "Typecasting:-to convert one data type into another data type\n",
    "e.g a='10' it is in type of string\n",
    "to convert it into int\n",
    "b=int(a)\n",
    "print(b) #b=10"
   ]
  },
  {
   "cell_type": "raw",
   "id": "31ad3373",
   "metadata": {},
   "source": [
    "Programing in python \n",
    "1. input / output function in python.\n"
   ]
  },
  {
   "cell_type": "code",
   "execution_count": 1,
   "id": "7e41086e",
   "metadata": {},
   "outputs": [
    {
     "name": "stdout",
     "output_type": "stream",
     "text": [
      "Radius= 12\n",
      " Area of Circle =452.15999999999997\n"
     ]
    }
   ],
   "source": [
    "#1.print with a concatenation operator\n",
    "rad=12\n",
    "area=3.14*rad*rad\n",
    "print(\"Radius= \"+str(rad)+'\\n Area of Circle ='+str(area))"
   ]
  },
  {
   "cell_type": "code",
   "execution_count": 2,
   "id": "05ebf35c",
   "metadata": {},
   "outputs": [
    {
     "name": "stdout",
     "output_type": "stream",
     "text": [
      "Name is sanket email is sanket@gmail.com\n"
     ]
    }
   ],
   "source": [
    "name='sanket'\n",
    "email='sanket@gmail.com' \n",
    "print('Name is '+str(name) +' email is '+str(email))"
   ]
  },
  {
   "cell_type": "code",
   "execution_count": 3,
   "id": "d6ac1faf",
   "metadata": {},
   "outputs": [
    {
     "name": "stdout",
     "output_type": "stream",
     "text": [
      "Area of circle is 452.15999999999997\n"
     ]
    }
   ],
   "source": [
    "#2.print with a ','(comma) as a data seperator\n",
    "rad=12\n",
    "area=3.14*rad*rad\n",
    "print('Area of circle is',area)"
   ]
  },
  {
   "cell_type": "code",
   "execution_count": 4,
   "id": "6227ea85",
   "metadata": {},
   "outputs": [
    {
     "name": "stdout",
     "output_type": "stream",
     "text": [
      "name is sanket  and email is  sanket@gmail.com\n"
     ]
    }
   ],
   "source": [
    "name='sanket'\n",
    "email='sanket@gmail.com' \n",
    "print('name is',name,' and email is ',email)"
   ]
  },
  {
   "cell_type": "code",
   "execution_count": 5,
   "id": "60dd1676",
   "metadata": {},
   "outputs": [
    {
     "name": "stdout",
     "output_type": "stream",
     "text": [
      " a=10 \n",
      " b=20 \n",
      " sum is  30\n"
     ]
    }
   ],
   "source": [
    "#3. Using f string method or using formated string (very popular)\n",
    "a=10;b=20;sum=a+b\n",
    "print(f\" a={a} \\n b={b} \\n sum is  {sum}\")\n",
    "# HERE {} THIS IS KNOWN AS PLACEHOLDER"
   ]
  },
  {
   "cell_type": "code",
   "execution_count": 6,
   "id": "880f0503",
   "metadata": {},
   "outputs": [
    {
     "name": "stdout",
     "output_type": "stream",
     "text": [
      "radius is 20 Height is 10 Volume of Cylinder is 12560.0\n"
     ]
    }
   ],
   "source": [
    "# 4. using format()  function (VERY POPOULAR)\n",
    "#4.a Index place holder  placeholder starts from 0,i.e  {0} {1} {2} {3} are known as  index place holder\n",
    "r=20;h=10\n",
    "volume_of_cylinder=3.14*r**2*h\n",
    "print('radius is {} Height is {} Volume of Cylinder is {}'.format(r,h,volume_of_cylinder))\n",
    "#"
   ]
  },
  {
   "cell_type": "markdown",
   "id": "12d01fc4",
   "metadata": {},
   "source": [
    "## Day7"
   ]
  },
  {
   "cell_type": "raw",
   "id": "77e7e9f4",
   "metadata": {},
   "source": [
    "#4.b Formating of the output using format() and the place holder using Padding of data\n",
    "padding of data is done using {:20} mean to print in 20 or n number of charcter width.\n",
    "By defualt the numeric nalue or data are right alligned adn string data are left allign in the paddding size\n",
    "e.g rno=233;name='ethan'\n",
    "print(\"rno={:20}\".format(rno))\n",
    "print('name={:20}'.format(name))\n",
    "\\output is:\n",
    "rno=------------------233\n",
    "name=ethan---------------      this system is used in student form          "
   ]
  },
  {
   "cell_type": "code",
   "execution_count": 7,
   "id": "8ef0060a",
   "metadata": {},
   "outputs": [
    {
     "name": "stdout",
     "output_type": "stream",
     "text": [
      "rno=                 233\n",
      "name=ethan               \n"
     ]
    }
   ],
   "source": [
    "rno=233;name='ethan'\n",
    "print(\"rno={:20}\".format(rno))\n",
    "print('name={:20}'.format(name))"
   ]
  },
  {
   "cell_type": "code",
   "execution_count": 8,
   "id": "3b292cfa",
   "metadata": {},
   "outputs": [
    {
     "name": "stdout",
     "output_type": "stream",
     "text": [
      "rno=              233.34\n",
      "name=ethan               \n"
     ]
    }
   ],
   "source": [
    "rno=233.34;name='ethan'\n",
    "print(\"rno={:20}\".format(rno)) #here us 15 spaces from left\n",
    "print('name={:20}'.format(name))\n",
    "#here by default numeric data is right align and string data is left align"
   ]
  },
  {
   "cell_type": "raw",
   "id": "33fdacd6",
   "metadata": {},
   "source": [
    "4.c padding & allignemt of data can be done using  > and < symbol\n",
    "< to left align \n",
    "> to right align"
   ]
  },
  {
   "cell_type": "code",
   "execution_count": 9,
   "id": "3f36418d",
   "metadata": {},
   "outputs": [
    {
     "name": "stdout",
     "output_type": "stream",
     "text": [
      "#all the data  align to left\n",
      "name=ethan               \n",
      "rno=233.34              \n",
      "\n",
      "#all the data  align to right\n",
      "name=               ethan\n",
      "rno=              233.34\n"
     ]
    }
   ],
   "source": [
    "rno=233.34;name='ethan'\n",
    "print('#all the data  align to left')\n",
    "print('name={:<20}'.format(name)) \n",
    "print(\"rno={:<20}\".format(rno)) \n",
    "print()\n",
    "print('#all the data  align to right')\n",
    "print('name={:>20}'.format(name)) \n",
    "print(\"rno={:>20}\".format(rno)) \n"
   ]
  },
  {
   "cell_type": "code",
   "execution_count": null,
   "id": "aa897889",
   "metadata": {},
   "outputs": [],
   "source": []
  },
  {
   "cell_type": "code",
   "execution_count": 10,
   "id": "2bc2e9e4",
   "metadata": {},
   "outputs": [
    {
     "name": "stdout",
     "output_type": "stream",
     "text": [
      "#all the data  align to left\n",
      "name=ethan###############\n",
      "rno=233.34%%%%%%%%%%%%%%\n",
      "\n",
      "#all the data  align to right\n",
      "name=***************ethan\n",
      "rno=**************233.34\n"
     ]
    }
   ],
   "source": [
    "#4.c.Replacement of blank spaces with character\n",
    "print('#all the data  align to left')\n",
    "print('name={:#<20}'.format(name)) \n",
    "print(\"rno={:%<20}\".format(rno)) \n",
    "print()\n",
    "print('#all the data  align to right')\n",
    "print('name={:*>20}'.format(name)) \n",
    "print(\"rno={:*>20}\".format(rno)) # example is when we withdraw cash with atm there is some value "
   ]
  },
  {
   "cell_type": "code",
   "execution_count": 11,
   "id": "08759b84",
   "metadata": {},
   "outputs": [
    {
     "name": "stdout",
     "output_type": "stream",
     "text": [
      "sanketn\n"
     ]
    }
   ],
   "source": [
    "# Truncating or cuting a string data\n",
    "#here cutting is only done on string data not only on 'numeric' data is done by using .(dot) ex  {:.4}\n",
    "a='sanketnjaisingpure'\n",
    "print('{:.7}'.format(a))"
   ]
  },
  {
   "cell_type": "code",
   "execution_count": 12,
   "id": "9901c229",
   "metadata": {},
   "outputs": [
    {
     "name": "stdout",
     "output_type": "stream",
     "text": [
      "sanketnjai\n"
     ]
    }
   ],
   "source": [
    "a='sanketnjaisingpure'\n",
    "print('{:.10}'.format(a)) \n",
    "# it will give error on numeric data\n",
    "#b=123434556789\n",
    "#print('{:.5}'.format(b))\n",
    "#output :Precision not allowed in integer format specifier"
   ]
  },
  {
   "cell_type": "code",
   "execution_count": 13,
   "id": "b1d2ea30",
   "metadata": {},
   "outputs": [
    {
     "name": "stdout",
     "output_type": "stream",
     "text": [
      "sanketnjai     \n"
     ]
    }
   ],
   "source": [
    "a='sanketnjaisingpure'\n",
    "print('{:15.10}'.format(a)) #padding with cutting\n",
    "#here string is by default align to left"
   ]
  },
  {
   "cell_type": "code",
   "execution_count": 14,
   "id": "252231f4",
   "metadata": {},
   "outputs": [
    {
     "name": "stdout",
     "output_type": "stream",
     "text": [
      "output is            sank\n"
     ]
    }
   ],
   "source": [
    "a='sanketnjaisingpure'\n",
    "print('output is {:>15.4}'.format(a)) #padding with cutting with align"
   ]
  },
  {
   "cell_type": "code",
   "execution_count": 15,
   "id": "ad6d1ef2",
   "metadata": {},
   "outputs": [
    {
     "name": "stdout",
     "output_type": "stream",
     "text": [
      "output is ***********sank\n"
     ]
    }
   ],
   "source": [
    "a='sanketnjaisingpure'\n",
    "print('output is {:*>15.4}'.format(a)) #padding with cutting with align using symbol"
   ]
  },
  {
   "cell_type": "markdown",
   "id": "ff6c4110",
   "metadata": {},
   "source": [
    "## Day8"
   ]
  },
  {
   "cell_type": "code",
   "execution_count": 16,
   "id": "77426c4a",
   "metadata": {},
   "outputs": [
    {
     "name": "stdout",
     "output_type": "stream",
     "text": [
      "roll no=12\n",
      "name is=sanket\n",
      "percentage(with out using .2f) is =78.450000\n",
      "percentage(with using .2f) is =78.45\n"
     ]
    }
   ],
   "source": [
    "#Formating of data with data type(******)\n",
    "#:d(int and long) :f( which are for float ) :s(for string)\n",
    "rno=12\n",
    "name='sanket'\n",
    "per=78.45\n",
    "print('roll no={:d}'.format(rno))\n",
    "print('name is={:s}'.format(name))\n",
    "print('percentage(with out using .2f) is ={:f}'.format(per))\n",
    "print('percentage(with using .2f) is ={:.2f}'.format(per)) # .2f represent that after decimal only two digit are there"
   ]
  },
  {
   "cell_type": "code",
   "execution_count": 17,
   "id": "e05eaf68",
   "metadata": {},
   "outputs": [
    {
     "name": "stdout",
     "output_type": "stream",
     "text": [
      "roll no=                  12\n",
      "name is=sanket              \n",
      "percentage(with out using .2f) is =           78.450000\n",
      "percentage(with using .2f) is =               78.45\n"
     ]
    }
   ],
   "source": [
    "#with using padding \n",
    "rno=12\n",
    "name='sanket'\n",
    "per=78.45\n",
    "print('roll no={:20d}'.format(rno))\n",
    "print('name is={:20s}'.format(name))\n",
    "print('percentage(with out using .2f) is ={:20f}'.format(per))\n",
    "print('percentage(with using .2f) is ={:20.2f}'.format(per))"
   ]
  },
  {
   "cell_type": "code",
   "execution_count": 18,
   "id": "a3589165",
   "metadata": {},
   "outputs": [
    {
     "name": "stdout",
     "output_type": "stream",
     "text": [
      "roll no=12                  \n",
      "name is=sanket              \n",
      "percentage(with out using .2f) is =78.450000           \n",
      "percentage(with using .2f) is =78.45               \n"
     ]
    }
   ],
   "source": [
    "#with using padding  & allignemt of data\n",
    "rno=12\n",
    "name='sanket'\n",
    "per=78.45\n",
    "print('roll no={:<20d}'.format(rno))\n",
    "print('name is={:<20s}'.format(name))\n",
    "print('percentage(with out using .2f) is ={:<20f}'.format(per))\n",
    "print('percentage(with using .2f) is ={:<20.2f}'.format(per))"
   ]
  },
  {
   "cell_type": "code",
   "execution_count": 19,
   "id": "bba0e370",
   "metadata": {},
   "outputs": [
    {
     "name": "stdout",
     "output_type": "stream",
     "text": [
      "roll no=******************12\n",
      "name is=**************sanket\n",
      "percentage(with out using .2f) is =***********78.450000\n",
      "percentage(with using .2f) is =***************78.45\n"
     ]
    }
   ],
   "source": [
    "#with using padding  & allignemt of data with using symbol\n",
    "rno=12\n",
    "name='sanket'\n",
    "per=78.45\n",
    "print('roll no={:*>20d}'.format(rno))\n",
    "print('name is={:*>20s}'.format(name))\n",
    "print('percentage(with out using .2f) is ={:*>20f}'.format(per))\n",
    "print('percentage(with using .2f) is ={:*>20.2f}'.format(per))"
   ]
  },
  {
   "cell_type": "code",
   "execution_count": null,
   "id": "e2a5a4c8",
   "metadata": {},
   "outputs": [],
   "source": [
    "#Input functionof python :it is the simple data entry from the keyboard\n",
    "#name=input('enter name') # it is the form of string\n",
    "#if we want to print numeric data\\\n",
    "#num=int(input(\"enter any number\"))"
   ]
  },
  {
   "cell_type": "code",
   "execution_count": null,
   "id": "54fa0571",
   "metadata": {},
   "outputs": [],
   "source": [
    "#use of input function of string data\n",
    "name=input(\"enter your name:\")\n",
    "print(\"Your name is :\",name)\n"
   ]
  },
  {
   "cell_type": "code",
   "execution_count": null,
   "id": "aa677d52",
   "metadata": {},
   "outputs": [],
   "source": [
    "# use of input function of numeric data\n",
    "ht=int(input(\"Enter height :\")) # WE ALSO USE HERE float(input(\" enter data\")) for float data\n",
    "base=int(input(\"Enter base :\"))\n",
    "area=0.5*base*ht\n",
    "print(\"height is {} and base is {} and area of triangle is {}:\".format(ht,base,area))"
   ]
  },
  {
   "cell_type": "code",
   "execution_count": null,
   "id": "ef39e8fb",
   "metadata": {},
   "outputs": [],
   "source": [
    "#Home work with using print include all type of print function "
   ]
  },
  {
   "cell_type": "raw",
   "id": "bf0aeae9",
   "metadata": {},
   "source": [
    "#control statement\n",
    "1.conditional statement (if,else,elif)\n",
    "2.looping statment(for ,while)\n",
    "3.control break statement(break ,pass, continue)"
   ]
  },
  {
   "cell_type": "markdown",
   "id": "a7e7c7f1",
   "metadata": {},
   "source": [
    "## Day9\n"
   ]
  },
  {
   "cell_type": "code",
   "execution_count": null,
   "id": "dbbca709",
   "metadata": {},
   "outputs": [],
   "source": [
    "#write a notes on day9"
   ]
  },
  {
   "cell_type": "code",
   "execution_count": null,
   "id": "44095bc7",
   "metadata": {},
   "outputs": [],
   "source": []
  },
  {
   "cell_type": "code",
   "execution_count": null,
   "id": "c330515d",
   "metadata": {},
   "outputs": [],
   "source": []
  },
  {
   "cell_type": "code",
   "execution_count": null,
   "id": "fc0d2352",
   "metadata": {},
   "outputs": [],
   "source": []
  },
  {
   "cell_type": "markdown",
   "id": "ed98ab2a",
   "metadata": {},
   "source": [
    "\n",
    "## Day10"
   ]
  },
  {
   "cell_type": "code",
   "execution_count": 1,
   "id": "3feaed26",
   "metadata": {},
   "outputs": [],
   "source": [
    "#1.for loop  using collection or sequence i.e list,set,dict,string,tuple\n",
    "#e.x list=[1,2,3,4,5,6]\n",
    "#for i in list:\n",
    "  #  print(i)\n",
    "    #it will give output as 1 2 3 4 5 6\n"
   ]
  },
  {
   "cell_type": "code",
   "execution_count": 2,
   "id": "58ddd5f0",
   "metadata": {},
   "outputs": [
    {
     "name": "stdout",
     "output_type": "stream",
     "text": [
      "Collection using list :\n",
      "1 2 3 4 5 6 7 8 9 0 \n",
      "\n",
      "Collection using tuple :\n",
      "1 2 3 4 5 6 7 8 9 0 \n",
      "\n",
      "Collection using tuple :\n",
      "1 : Sanket\n",
      "city : amaravati\n",
      "frd : data\n",
      "\n",
      "\n",
      "Using string :\n",
      "S a n k e t \n",
      "\n",
      "Using string :\n",
      "1 2 3 4 5 6 7 "
     ]
    }
   ],
   "source": [
    "#Using list\n",
    "list=[1,2,3,4,5,6,7,8,9,0]\n",
    "print(\"Collection using list :\")\n",
    "for i in list:\n",
    "    print(i,end=\" \") #HERE WE USE END ,END WILL PRINT ALL THE VALUE IN THE SAME LINE OR PRINT WHICH YOUR ARE GIVING \n",
    "                     #CONDITION IN THE DOUBLE QUOTES\n",
    "print()    \n",
    "print()\n",
    "#Using tuple\n",
    "tup=(1,2,3,4,5,6,7,8,9,0)\n",
    "print('Collection using tuple :')\n",
    "for i in tup:\n",
    "    print(i,end=\" \")\n",
    "print()  \n",
    "print()\n",
    "\n",
    "#Using dict\n",
    "dict={1:'Sanket','city':'amaravati','frd':'data'}\n",
    "print('Collection using tuple :')\n",
    "for key,val in dict.items():\n",
    "    print(key,\":\",val)\n",
    "print()  \n",
    "print()\n",
    "\n",
    "#Using String\n",
    "str=\"Sanket\"\n",
    "print(\"Using string :\")\n",
    "for i in str:\n",
    "    print(i,end=\" \")\n",
    "print()\n",
    "print()\n",
    "\n",
    "#Using set\n",
    "print(\"Using string :\")\n",
    "set={1,2,3,4,5,6,7}\n",
    "for i in set:\n",
    "    print(i,end=\" \")"
   ]
  },
  {
   "cell_type": "code",
   "execution_count": 3,
   "id": "3b8bcf5a",
   "metadata": {},
   "outputs": [
    {
     "name": "stdout",
     "output_type": "stream",
     "text": [
      "0 1 2 3 4 5 6 7 8 9 10 11 12 13 14 "
     ]
    }
   ],
   "source": [
    "#2.for loop using range function:\n",
    "#range(starting index(included), last index(excluded),step)\n",
    "for i in range(15): #one parameter range fucntion\n",
    "    # if we are giving only one  para meter then it will consider as it's last index\n",
    "    print(i,end=\" \")"
   ]
  },
  {
   "cell_type": "code",
   "execution_count": 4,
   "id": "387adf64",
   "metadata": {},
   "outputs": [
    {
     "name": "stdout",
     "output_type": "stream",
     "text": [
      "1 2 3 4 5 6 7 8 9 "
     ]
    }
   ],
   "source": [
    "for i in range(1,10): # two para meter range function()\n",
    "    print(i,end= \" \") # if we are giving two parameter then it will consider it as first and last index"
   ]
  },
  {
   "cell_type": "code",
   "execution_count": 5,
   "id": "958fa6f0",
   "metadata": {},
   "outputs": [
    {
     "name": "stdout",
     "output_type": "stream",
     "text": [
      "1 3 5 7 9 11 13 15 17 19 "
     ]
    }
   ],
   "source": [
    "for i in range(1,20,2): # Three parameter range fucntion\n",
    "    #here (starting index(included), last index(excluded),step)\n",
    "    print(i,end=\" \")"
   ]
  },
  {
   "cell_type": "code",
   "execution_count": 6,
   "id": "f631d678",
   "metadata": {},
   "outputs": [
    {
     "name": "stdout",
     "output_type": "stream",
     "text": [
      "10 9 8 7 6 5 4 3 2 "
     ]
    }
   ],
   "source": [
    "#reverse for loop \n",
    "for i in range(10,1,-1):\n",
    "    print(i,end=\" \")"
   ]
  },
  {
   "cell_type": "code",
   "execution_count": 7,
   "id": "a79e7131",
   "metadata": {},
   "outputs": [
    {
     "name": "stdout",
     "output_type": "stream",
     "text": [
      "10 8 6 4 2 "
     ]
    }
   ],
   "source": [
    "for i in range(10,1,-2):\n",
    "    print(i,end=\" \")"
   ]
  },
  {
   "cell_type": "code",
   "execution_count": null,
   "id": "fb650ba7",
   "metadata": {},
   "outputs": [],
   "source": [
    "#FACTORAIL\n",
    "n=int(input())\n",
    "f=1\n",
    "for i in range(1,n+1):\n",
    "    f=f*i\n",
    "print('factorial is :',f)"
   ]
  },
  {
   "cell_type": "code",
   "execution_count": null,
   "id": "1b2115e8",
   "metadata": {},
   "outputs": [],
   "source": [
    "#fibonacci series 0 1 1 2 3 5 8 13 21 34\n",
    "n1=0\n",
    "n2=1\n",
    "n=int(input(\"Enter how many fibonacci number you want: \"))\n",
    "for i in range(1,n+1):\n",
    "    n3=n1+n2\n",
    "    \n",
    "    print(n3,end=\" \")\n",
    "    n1=n2\n",
    "    n2=n3\n"
   ]
  },
  {
   "cell_type": "code",
   "execution_count": null,
   "id": "7f6e569f",
   "metadata": {},
   "outputs": [],
   "source": [
    "#Prime number \n",
    "n=int(input(\"Enter to check whether it is prime number or not : \"))\n",
    "\n",
    "for i in range(2,n):\n",
    "    if n%i==0:\n",
    "        print(\"prime numer\")\n",
    "        break\n",
    "else:\n",
    "    print(\"Not prime number\")\n",
    "    "
   ]
  },
  {
   "cell_type": "markdown",
   "id": "e2c9ba66",
   "metadata": {},
   "source": [
    "## Day11"
   ]
  },
  {
   "cell_type": "code",
   "execution_count": 19,
   "id": "00270599",
   "metadata": {},
   "outputs": [],
   "source": [
    "#len() functon is used to get the length or size of a list or tuple or even string ."
   ]
  },
  {
   "cell_type": "code",
   "execution_count": 20,
   "id": "8013da55",
   "metadata": {},
   "outputs": [
    {
     "name": "stdout",
     "output_type": "stream",
     "text": [
      " Length of list : 7\n",
      "[1, 2, 'sanket', 'hare', 'ram', 'swami', 'samratha']\n"
     ]
    }
   ],
   "source": [
    "list=[1,2,'sanket','hare','ram','swami','samratha']\n",
    "print(\" Length of list :\",len(list))\n",
    "print(list)"
   ]
  },
  {
   "cell_type": "code",
   "execution_count": 21,
   "id": "6486f0a2",
   "metadata": {},
   "outputs": [
    {
     "name": "stdout",
     "output_type": "stream",
     "text": [
      "red 3\n",
      "blue 4\n",
      "black 5\n",
      "orange 6\n",
      "white 5\n",
      "magenta 7\n",
      "green 5\n"
     ]
    }
   ],
   "source": [
    "list=['red','blue','black','orange','white','magenta','green']\n",
    "for i in list:\n",
    "    print(i,len(i))"
   ]
  },
  {
   "cell_type": "code",
   "execution_count": 22,
   "id": "408e39d2",
   "metadata": {},
   "outputs": [
    {
     "name": "stdout",
     "output_type": "stream",
     "text": [
      "112 : 3\n",
      "12 : 2\n",
      "9 : 1\n",
      "45345 : 5\n",
      "453455 : 6\n",
      "78578433 : 8\n"
     ]
    }
   ],
   "source": [
    "#you cant apply len() function to numeric data,cause len func cant apply to numeric data\n",
    "#IF YOU WANT TO CONVERT ,COUNT IT'S LENGTH THEN WE NEED TO CONVERT IT INTO STRING DATA TYPE AS FOLLOW\n",
    "list1=[\"112\",'12','9','45345','453455','78578433']\n",
    "for i in list1:\n",
    "    print(i,\":\",len(i))"
   ]
  },
  {
   "cell_type": "code",
   "execution_count": 23,
   "id": "2d1ebcbd",
   "metadata": {},
   "outputs": [
    {
     "name": "stdout",
     "output_type": "stream",
     "text": [
      "red ,blue ,black ,orange ,white ,magenta ,green ,"
     ]
    }
   ],
   "source": [
    "#3.for loop using sequence and range \n",
    "list=['red','blue','black','orange','white','magenta','green']\n",
    "for i in range(len(list)):\n",
    "    print(list[i],end=\" ,\")\n"
   ]
  },
  {
   "cell_type": "code",
   "execution_count": 24,
   "id": "daa09064",
   "metadata": {},
   "outputs": [
    {
     "name": "stdout",
     "output_type": "stream",
     "text": [
      "1 . blue\n",
      "3 . orange\n",
      "5 . magenta\n"
     ]
    }
   ],
   "source": [
    "for i in range(len(list)):\n",
    "    if i%2!=0:\n",
    "        print(i,'.',list[i])"
   ]
  },
  {
   "cell_type": "code",
   "execution_count": 36,
   "id": "6196d9b7",
   "metadata": {},
   "outputs": [],
   "source": [
    "#Control break statement in python\n",
    "#there are 3 type of break statement  break,continue,pass\n",
    "#break: it will break the loop and stop the execution"
   ]
  },
  {
   "cell_type": "code",
   "execution_count": 37,
   "id": "de03e596",
   "metadata": {},
   "outputs": [
    {
     "name": "stdout",
     "output_type": "stream",
     "text": [
      "0 1 2 3 4 5 6 7 8 9 10 11 12 13 14 15 16 17 18 19 20 21 22 23 24 25 26 27 28 29 30 31 32 33 34 35 36 37 38 39 40 41 42 43 44 45 46 47 48 49 50 51 52 53 54 55 56 57 58 59 60 61 62 63 64 65 66 67 68 69 70 71 72 73 74 75 76 77 78 79 80 81 82 83 84 85 86 87 88 89 90 91 92 93 94 95 96 97 98 99 "
     ]
    }
   ],
   "source": [
    "for i in range(100):\n",
    "    print(i,end=\" \")"
   ]
  },
  {
   "cell_type": "code",
   "execution_count": 38,
   "id": "4c74dbf2",
   "metadata": {},
   "outputs": [
    {
     "name": "stdout",
     "output_type": "stream",
     "text": [
      "0 1 2 3 4 5 6 7 8 9 "
     ]
    }
   ],
   "source": [
    "for i in range(100):\n",
    "    if i>=10:\n",
    "        break\n",
    "    print(i,end=\" \")"
   ]
  },
  {
   "cell_type": "code",
   "execution_count": 39,
   "id": "ddb4f179",
   "metadata": {},
   "outputs": [
    {
     "name": "stdout",
     "output_type": "stream",
     "text": [
      "0 1 2 3 4 5 6 7 8 9 10 "
     ]
    }
   ],
   "source": [
    "for i in range(100):  # HERE SEE THE BOTH OUTPUT, THE OCCURANCE OF BREAK CHANGE THE OUTPUT\n",
    "    \n",
    "    print(i,end=\" \")\n",
    "    if i>=10:\n",
    "        break"
   ]
  },
  {
   "cell_type": "code",
   "execution_count": 40,
   "id": "f52c0159",
   "metadata": {},
   "outputs": [
    {
     "name": "stdout",
     "output_type": "stream",
     "text": [
      "p\n",
      "y\n",
      "t\n"
     ]
    }
   ],
   "source": [
    "for i in 'python':\n",
    "    if i=='h':\n",
    "        break\n",
    "    print(i,end=\" \")"
   ]
  },
  {
   "cell_type": "code",
   "execution_count": 41,
   "id": "40335d72",
   "metadata": {},
   "outputs": [
    {
     "name": "stdout",
     "output_type": "stream",
     "text": [
      "0\n",
      "1\n",
      "2\n",
      "3\n",
      "4\n",
      "5\n",
      "6\n",
      "7\n",
      "8\n",
      "9\n"
     ]
    }
   ],
   "source": [
    "#continue\n",
    "for i in range(10):\n",
    "    print(i,end=\" \")\n",
    "    if i==5:\n",
    "        continue"
   ]
  },
  {
   "cell_type": "code",
   "execution_count": 43,
   "id": "a7db7fc0",
   "metadata": {},
   "outputs": [
    {
     "name": "stdout",
     "output_type": "stream",
     "text": [
      "0 1 2 3 4 6 7 8 9 "
     ]
    }
   ],
   "source": [
    "for i in range(10): # HERE SEE THE BOTH OUTPUT, THE OCCURANCE OF continue CHANGE THE OUTPUT\n",
    "   \n",
    "    if i==5:\n",
    "        continue\n",
    "    print(i,end=\" \")"
   ]
  },
  {
   "cell_type": "code",
   "execution_count": 44,
   "id": "34aed2b2",
   "metadata": {},
   "outputs": [
    {
     "name": "stdout",
     "output_type": "stream",
     "text": [
      "1 3 5 7 9 "
     ]
    }
   ],
   "source": [
    "for i in range(10): \n",
    "   \n",
    "    if i%2==0:\n",
    "        continue\n",
    "    print(i,end=\" \")"
   ]
  },
  {
   "cell_type": "code",
   "execution_count": 45,
   "id": "388b1b46",
   "metadata": {},
   "outputs": [
    {
     "name": "stdout",
     "output_type": "stream",
     "text": [
      "0 2 4 6 8 "
     ]
    }
   ],
   "source": [
    "for i in range(10): \n",
    "   \n",
    "    if i%2!=0:\n",
    "        continue\n",
    "    print(i,end=\" \")"
   ]
  },
  {
   "cell_type": "code",
   "execution_count": 46,
   "id": "ee3bd3c7",
   "metadata": {},
   "outputs": [
    {
     "name": "stdout",
     "output_type": "stream",
     "text": [
      "  d t   s c i e n c e "
     ]
    }
   ],
   "source": [
    "str=\" data science\"\n",
    "for i in str:\n",
    "    if i=='a':\n",
    "        continue\n",
    "    print(i,end=\" \")"
   ]
  },
  {
   "cell_type": "code",
   "execution_count": 47,
   "id": "af77a6c9",
   "metadata": {},
   "outputs": [
    {
     "name": "stdout",
     "output_type": "stream",
     "text": [
      "a a "
     ]
    }
   ],
   "source": [
    "str=\" data science\"\n",
    "for i in str:\n",
    "    if i!='a':\n",
    "        continue\n",
    "    print(i,end=\" \")"
   ]
  },
  {
   "cell_type": "markdown",
   "id": "6473ff44",
   "metadata": {},
   "source": [
    "## Day12"
   ]
  },
  {
   "cell_type": "code",
   "execution_count": 6,
   "id": "7330e905",
   "metadata": {},
   "outputs": [
    {
     "name": "stdout",
     "output_type": "stream",
     "text": [
      "s\n",
      "a\n",
      "n\n",
      "This is Pass Block:\n",
      "k\n",
      "e\n",
      "t\n"
     ]
    }
   ],
   "source": [
    "#Pass statement:\n",
    "# it is 3rd control break statement\n",
    "#it perform no operation it does not break or continue the statement  \n",
    "#it can be useful where program executes normally but something yet to happen or yet to be written\n",
    "# it is used mainly used in error handling \n",
    "a='sanket'\n",
    "for i in a:\n",
    "    if i=='k':\n",
    "        pass\n",
    "        print('This is Pass Block:')\n",
    "    print(i)"
   ]
  },
  {
   "cell_type": "code",
   "execution_count": 7,
   "id": "a3d76264",
   "metadata": {},
   "outputs": [
    {
     "name": "stdout",
     "output_type": "stream",
     "text": [
      "0\n",
      "1\n",
      "2\n",
      "3\n",
      "4\n",
      "This is pass....\n",
      "5\n",
      "6\n",
      "7\n",
      "8\n",
      "9\n"
     ]
    }
   ],
   "source": [
    "for i in range(10):\n",
    "    if i==5:\n",
    "        pass\n",
    "        print('This is pass....')\n",
    "    print(i)"
   ]
  },
  {
   "cell_type": "code",
   "execution_count": null,
   "id": "403b24da",
   "metadata": {},
   "outputs": [],
   "source": [
    "#Iterators: it is pre-defined used to iterate or move or traverse over a collection or a sequence data like string tuple\n",
    "#set list dict\n",
    "#iter():function:function sets an iterator on a collection and next() function moves iterator to next item in the collection"
   ]
  },
  {
   "cell_type": "code",
   "execution_count": 17,
   "id": "a9b853cd",
   "metadata": {},
   "outputs": [
    {
     "name": "stdout",
     "output_type": "stream",
     "text": [
      "1\n",
      "2\n",
      "3\n",
      "4\n",
      "5\n",
      "6\n",
      "7\n",
      "8\n",
      "9\n",
      "0\n",
      "Rewinding occuring\n",
      "1\n"
     ]
    }
   ],
   "source": [
    "#Example of iterator\n",
    "num=[1,2,3,4,5,6,7,8,9,0]\n",
    "it=iter(num)\n",
    "print(next(it))\n",
    "print(next(it))\n",
    "print(next(it))\n",
    "print(next(it))\n",
    "print(next(it))\n",
    "print(next(it))\n",
    "print(next(it))\n",
    "print(next(it))\n",
    "print(next(it))\n",
    "print(next(it))\n",
    "#print(next(it)) if we print next item it will give error cause iterator has reach end of list\n",
    "#IF we rewind the itertor\n",
    "it=iter(num) #Resetting the iterator\n",
    "print(\"Rewinding occuring\")\n",
    "print(next(it))"
   ]
  },
  {
   "cell_type": "code",
   "execution_count": 1,
   "id": "6bb32c5c",
   "metadata": {},
   "outputs": [
    {
     "name": "stdout",
     "output_type": "stream",
     "text": [
      "<list_iterator object at 0x000001F950BD9490> <list_iterator object at 0x000001F950BD94C0> <list_iterator object at 0x000001F950BD9220> <list_iterator object at 0x000001F950BD92E0> <list_iterator object at 0x000001F950BD9040> <list_iterator object at 0x000001F950BD9100> <list_iterator object at 0x000001F950BD9CA0> <list_iterator object at 0x000001F950AF9F70> <list_iterator object at 0x000001F950AF9D60> <list_iterator object at 0x000001F950AF9C70> <list_iterator object at 0x000001F950AF9EE0> <list_iterator object at 0x000001F950AF9BE0> <list_iterator object at 0x000001F950AF9CA0> <list_iterator object at 0x000001F950AF9A00> <list_iterator object at 0x000001F950AF9970> <list_iterator object at 0x000001F950AF9880> <list_iterator object at 0x000001F950AF9790> "
     ]
    }
   ],
   "source": [
    "#Use of iterator with a for loop \n",
    "num=[4,34,54,634,3,34,67,2,214,5,95,6,45,34,23,23,232]\n",
    "for n in num:\n",
    "    it=iter(num.\n",
    "    print(it,end=\" \")"
   ]
  },
  {
   "cell_type": "code",
   "execution_count": 7,
   "id": "20c5338a",
   "metadata": {},
   "outputs": [
    {
     "name": "stdout",
     "output_type": "stream",
     "text": [
      "4 34 54 634 3 34 67 2 214 5 95 6 45 34 23 23 232 "
     ]
    }
   ],
   "source": [
    "num=[4,34,54,634,3,34,67,2,214,5,95,6,45,34,23,23,232]\n",
    "it=iter(num)\n",
    "for n in it:\n",
    "    \n",
    "    print(n,end=\" \")"
   ]
  },
  {
   "cell_type": "code",
   "execution_count": 10,
   "id": "57e30023",
   "metadata": {
    "scrolled": false
   },
   "outputs": [
    {
     "name": "stderr",
     "output_type": "stream",
     "text": [
      "ERROR:root:Internal Python error in the inspect module.\n",
      "Below is the traceback from this internal error.\n",
      "\n"
     ]
    },
    {
     "name": "stdout",
     "output_type": "stream",
     "text": [
      "4\n",
      "34\n",
      "54\n",
      "634\n",
      "3\n",
      "34\n",
      "67\n",
      "2\n",
      "214\n",
      "5\n",
      "95\n",
      "6\n",
      "45\n",
      "34\n",
      "23\n",
      "23\n",
      "232\n",
      "End  of program \n",
      "Traceback (most recent call last):\n",
      "  File \"<ipython-input-10-f5e2eb3d40ea>\", line 9, in <module>\n",
      "    print(next(it))\n",
      "StopIteration\n",
      "\n",
      "During handling of the above exception, another exception occurred:\n",
      "\n",
      "Traceback (most recent call last):\n",
      "  File \"C:\\Users\\Intel\\anaconda3\\lib\\site-packages\\IPython\\core\\interactiveshell.py\", line 3437, in run_code\n",
      "    exec(code_obj, self.user_global_ns, self.user_ns)\n",
      "  File \"<ipython-input-10-f5e2eb3d40ea>\", line 12, in <module>\n",
      "    sys.exit(0)\n",
      "SystemExit: 0\n",
      "\n",
      "During handling of the above exception, another exception occurred:\n",
      "\n",
      "Traceback (most recent call last):\n",
      "  File \"C:\\Users\\Intel\\anaconda3\\lib\\site-packages\\IPython\\core\\ultratb.py\", line 1101, in get_records\n",
      "    return _fixed_getinnerframes(etb, number_of_lines_of_context, tb_offset)\n",
      "  File \"C:\\Users\\Intel\\anaconda3\\lib\\site-packages\\IPython\\core\\ultratb.py\", line 248, in wrapped\n",
      "    return f(*args, **kwargs)\n",
      "  File \"C:\\Users\\Intel\\anaconda3\\lib\\site-packages\\IPython\\core\\ultratb.py\", line 281, in _fixed_getinnerframes\n",
      "    records = fix_frame_records_filenames(inspect.getinnerframes(etb, context))\n",
      "  File \"C:\\Users\\Intel\\anaconda3\\lib\\inspect.py\", line 1515, in getinnerframes\n",
      "    frameinfo = (tb.tb_frame,) + getframeinfo(tb, context)\n",
      "AttributeError: 'tuple' object has no attribute 'tb_frame'\n"
     ]
    },
    {
     "ename": "TypeError",
     "evalue": "object of type 'NoneType' has no len()",
     "output_type": "error",
     "traceback": [
      "\u001b[1;31m---------------------------------------------------------------------------\u001b[0m",
      "\u001b[1;31mStopIteration\u001b[0m                             Traceback (most recent call last)",
      "\u001b[1;32m<ipython-input-10-f5e2eb3d40ea>\u001b[0m in \u001b[0;36m<module>\u001b[1;34m\u001b[0m\n\u001b[0;32m      8\u001b[0m     \u001b[1;32mtry\u001b[0m\u001b[1;33m:\u001b[0m\u001b[1;33m\u001b[0m\u001b[1;33m\u001b[0m\u001b[0m\n\u001b[1;32m----> 9\u001b[1;33m         \u001b[0mprint\u001b[0m\u001b[1;33m(\u001b[0m\u001b[0mnext\u001b[0m\u001b[1;33m(\u001b[0m\u001b[0mit\u001b[0m\u001b[1;33m)\u001b[0m\u001b[1;33m)\u001b[0m\u001b[1;33m\u001b[0m\u001b[1;33m\u001b[0m\u001b[0m\n\u001b[0m\u001b[0;32m     10\u001b[0m     \u001b[1;32mexcept\u001b[0m\u001b[1;33m:\u001b[0m\u001b[1;33m\u001b[0m\u001b[1;33m\u001b[0m\u001b[0m\n",
      "\u001b[1;31mStopIteration\u001b[0m: ",
      "\nDuring handling of the above exception, another exception occurred:\n",
      "\u001b[1;31mSystemExit\u001b[0m                                Traceback (most recent call last)",
      "    \u001b[1;31m[... skipping hidden 1 frame]\u001b[0m\n",
      "\u001b[1;32m<ipython-input-10-f5e2eb3d40ea>\u001b[0m in \u001b[0;36m<module>\u001b[1;34m\u001b[0m\n\u001b[0;32m     11\u001b[0m         \u001b[0mprint\u001b[0m\u001b[1;33m(\u001b[0m\u001b[1;34m'End  of program '\u001b[0m\u001b[1;33m)\u001b[0m\u001b[1;33m\u001b[0m\u001b[1;33m\u001b[0m\u001b[0m\n\u001b[1;32m---> 12\u001b[1;33m         \u001b[0msys\u001b[0m\u001b[1;33m.\u001b[0m\u001b[0mexit\u001b[0m\u001b[1;33m(\u001b[0m\u001b[1;36m0\u001b[0m\u001b[1;33m)\u001b[0m\u001b[1;33m\u001b[0m\u001b[1;33m\u001b[0m\u001b[0m\n\u001b[0m",
      "\u001b[1;31mSystemExit\u001b[0m: 0",
      "\nDuring handling of the above exception, another exception occurred:\n",
      "\u001b[1;31mTypeError\u001b[0m                                 Traceback (most recent call last)",
      "    \u001b[1;31m[... skipping hidden 1 frame]\u001b[0m\n",
      "\u001b[1;32m~\\anaconda3\\lib\\site-packages\\IPython\\core\\interactiveshell.py\u001b[0m in \u001b[0;36mshowtraceback\u001b[1;34m(self, exc_tuple, filename, tb_offset, exception_only, running_compiled_code)\u001b[0m\n\u001b[0;32m   2052\u001b[0m                     stb = ['An exception has occurred, use %tb to see '\n\u001b[0;32m   2053\u001b[0m                            'the full traceback.\\n']\n\u001b[1;32m-> 2054\u001b[1;33m                     stb.extend(self.InteractiveTB.get_exception_only(etype,\n\u001b[0m\u001b[0;32m   2055\u001b[0m                                                                      value))\n\u001b[0;32m   2056\u001b[0m                 \u001b[1;32melse\u001b[0m\u001b[1;33m:\u001b[0m\u001b[1;33m\u001b[0m\u001b[1;33m\u001b[0m\u001b[0m\n",
      "\u001b[1;32m~\\anaconda3\\lib\\site-packages\\IPython\\core\\ultratb.py\u001b[0m in \u001b[0;36mget_exception_only\u001b[1;34m(self, etype, value)\u001b[0m\n\u001b[0;32m    752\u001b[0m         \u001b[0mvalue\u001b[0m \u001b[1;33m:\u001b[0m \u001b[0mexception\u001b[0m \u001b[0mvalue\u001b[0m\u001b[1;33m\u001b[0m\u001b[1;33m\u001b[0m\u001b[0m\n\u001b[0;32m    753\u001b[0m         \"\"\"\n\u001b[1;32m--> 754\u001b[1;33m         \u001b[1;32mreturn\u001b[0m \u001b[0mListTB\u001b[0m\u001b[1;33m.\u001b[0m\u001b[0mstructured_traceback\u001b[0m\u001b[1;33m(\u001b[0m\u001b[0mself\u001b[0m\u001b[1;33m,\u001b[0m \u001b[0metype\u001b[0m\u001b[1;33m,\u001b[0m \u001b[0mvalue\u001b[0m\u001b[1;33m)\u001b[0m\u001b[1;33m\u001b[0m\u001b[1;33m\u001b[0m\u001b[0m\n\u001b[0m\u001b[0;32m    755\u001b[0m \u001b[1;33m\u001b[0m\u001b[0m\n\u001b[0;32m    756\u001b[0m     \u001b[1;32mdef\u001b[0m \u001b[0mshow_exception_only\u001b[0m\u001b[1;33m(\u001b[0m\u001b[0mself\u001b[0m\u001b[1;33m,\u001b[0m \u001b[0metype\u001b[0m\u001b[1;33m,\u001b[0m \u001b[0mevalue\u001b[0m\u001b[1;33m)\u001b[0m\u001b[1;33m:\u001b[0m\u001b[1;33m\u001b[0m\u001b[1;33m\u001b[0m\u001b[0m\n",
      "\u001b[1;32m~\\anaconda3\\lib\\site-packages\\IPython\\core\\ultratb.py\u001b[0m in \u001b[0;36mstructured_traceback\u001b[1;34m(self, etype, evalue, etb, tb_offset, context)\u001b[0m\n\u001b[0;32m    627\u001b[0m             \u001b[0mchained_exceptions_tb_offset\u001b[0m \u001b[1;33m=\u001b[0m \u001b[1;36m0\u001b[0m\u001b[1;33m\u001b[0m\u001b[1;33m\u001b[0m\u001b[0m\n\u001b[0;32m    628\u001b[0m             out_list = (\n\u001b[1;32m--> 629\u001b[1;33m                 self.structured_traceback(\n\u001b[0m\u001b[0;32m    630\u001b[0m                     \u001b[0metype\u001b[0m\u001b[1;33m,\u001b[0m \u001b[0mevalue\u001b[0m\u001b[1;33m,\u001b[0m \u001b[1;33m(\u001b[0m\u001b[0metb\u001b[0m\u001b[1;33m,\u001b[0m \u001b[0mchained_exc_ids\u001b[0m\u001b[1;33m)\u001b[0m\u001b[1;33m,\u001b[0m\u001b[1;33m\u001b[0m\u001b[1;33m\u001b[0m\u001b[0m\n\u001b[0;32m    631\u001b[0m                     chained_exceptions_tb_offset, context)\n",
      "\u001b[1;32m~\\anaconda3\\lib\\site-packages\\IPython\\core\\ultratb.py\u001b[0m in \u001b[0;36mstructured_traceback\u001b[1;34m(self, etype, value, tb, tb_offset, number_of_lines_of_context)\u001b[0m\n\u001b[0;32m   1365\u001b[0m         \u001b[1;32melse\u001b[0m\u001b[1;33m:\u001b[0m\u001b[1;33m\u001b[0m\u001b[1;33m\u001b[0m\u001b[0m\n\u001b[0;32m   1366\u001b[0m             \u001b[0mself\u001b[0m\u001b[1;33m.\u001b[0m\u001b[0mtb\u001b[0m \u001b[1;33m=\u001b[0m \u001b[0mtb\u001b[0m\u001b[1;33m\u001b[0m\u001b[1;33m\u001b[0m\u001b[0m\n\u001b[1;32m-> 1367\u001b[1;33m         return FormattedTB.structured_traceback(\n\u001b[0m\u001b[0;32m   1368\u001b[0m             self, etype, value, tb, tb_offset, number_of_lines_of_context)\n\u001b[0;32m   1369\u001b[0m \u001b[1;33m\u001b[0m\u001b[0m\n",
      "\u001b[1;32m~\\anaconda3\\lib\\site-packages\\IPython\\core\\ultratb.py\u001b[0m in \u001b[0;36mstructured_traceback\u001b[1;34m(self, etype, value, tb, tb_offset, number_of_lines_of_context)\u001b[0m\n\u001b[0;32m   1265\u001b[0m         \u001b[1;32mif\u001b[0m \u001b[0mmode\u001b[0m \u001b[1;32min\u001b[0m \u001b[0mself\u001b[0m\u001b[1;33m.\u001b[0m\u001b[0mverbose_modes\u001b[0m\u001b[1;33m:\u001b[0m\u001b[1;33m\u001b[0m\u001b[1;33m\u001b[0m\u001b[0m\n\u001b[0;32m   1266\u001b[0m             \u001b[1;31m# Verbose modes need a full traceback\u001b[0m\u001b[1;33m\u001b[0m\u001b[1;33m\u001b[0m\u001b[1;33m\u001b[0m\u001b[0m\n\u001b[1;32m-> 1267\u001b[1;33m             return VerboseTB.structured_traceback(\n\u001b[0m\u001b[0;32m   1268\u001b[0m                 \u001b[0mself\u001b[0m\u001b[1;33m,\u001b[0m \u001b[0metype\u001b[0m\u001b[1;33m,\u001b[0m \u001b[0mvalue\u001b[0m\u001b[1;33m,\u001b[0m \u001b[0mtb\u001b[0m\u001b[1;33m,\u001b[0m \u001b[0mtb_offset\u001b[0m\u001b[1;33m,\u001b[0m \u001b[0mnumber_of_lines_of_context\u001b[0m\u001b[1;33m\u001b[0m\u001b[1;33m\u001b[0m\u001b[0m\n\u001b[0;32m   1269\u001b[0m             )\n",
      "\u001b[1;32m~\\anaconda3\\lib\\site-packages\\IPython\\core\\ultratb.py\u001b[0m in \u001b[0;36mstructured_traceback\u001b[1;34m(self, etype, evalue, etb, tb_offset, number_of_lines_of_context)\u001b[0m\n\u001b[0;32m   1122\u001b[0m         \u001b[1;34m\"\"\"Return a nice text document describing the traceback.\"\"\"\u001b[0m\u001b[1;33m\u001b[0m\u001b[1;33m\u001b[0m\u001b[0m\n\u001b[0;32m   1123\u001b[0m \u001b[1;33m\u001b[0m\u001b[0m\n\u001b[1;32m-> 1124\u001b[1;33m         formatted_exception = self.format_exception_as_a_whole(etype, evalue, etb, number_of_lines_of_context,\n\u001b[0m\u001b[0;32m   1125\u001b[0m                                                                tb_offset)\n\u001b[0;32m   1126\u001b[0m \u001b[1;33m\u001b[0m\u001b[0m\n",
      "\u001b[1;32m~\\anaconda3\\lib\\site-packages\\IPython\\core\\ultratb.py\u001b[0m in \u001b[0;36mformat_exception_as_a_whole\u001b[1;34m(self, etype, evalue, etb, number_of_lines_of_context, tb_offset)\u001b[0m\n\u001b[0;32m   1080\u001b[0m \u001b[1;33m\u001b[0m\u001b[0m\n\u001b[0;32m   1081\u001b[0m \u001b[1;33m\u001b[0m\u001b[0m\n\u001b[1;32m-> 1082\u001b[1;33m         \u001b[0mlast_unique\u001b[0m\u001b[1;33m,\u001b[0m \u001b[0mrecursion_repeat\u001b[0m \u001b[1;33m=\u001b[0m \u001b[0mfind_recursion\u001b[0m\u001b[1;33m(\u001b[0m\u001b[0morig_etype\u001b[0m\u001b[1;33m,\u001b[0m \u001b[0mevalue\u001b[0m\u001b[1;33m,\u001b[0m \u001b[0mrecords\u001b[0m\u001b[1;33m)\u001b[0m\u001b[1;33m\u001b[0m\u001b[1;33m\u001b[0m\u001b[0m\n\u001b[0m\u001b[0;32m   1083\u001b[0m \u001b[1;33m\u001b[0m\u001b[0m\n\u001b[0;32m   1084\u001b[0m         \u001b[0mframes\u001b[0m \u001b[1;33m=\u001b[0m \u001b[0mself\u001b[0m\u001b[1;33m.\u001b[0m\u001b[0mformat_records\u001b[0m\u001b[1;33m(\u001b[0m\u001b[0mrecords\u001b[0m\u001b[1;33m,\u001b[0m \u001b[0mlast_unique\u001b[0m\u001b[1;33m,\u001b[0m \u001b[0mrecursion_repeat\u001b[0m\u001b[1;33m)\u001b[0m\u001b[1;33m\u001b[0m\u001b[1;33m\u001b[0m\u001b[0m\n",
      "\u001b[1;32m~\\anaconda3\\lib\\site-packages\\IPython\\core\\ultratb.py\u001b[0m in \u001b[0;36mfind_recursion\u001b[1;34m(etype, value, records)\u001b[0m\n\u001b[0;32m    380\u001b[0m     \u001b[1;31m# first frame (from in to out) that looks different.\u001b[0m\u001b[1;33m\u001b[0m\u001b[1;33m\u001b[0m\u001b[1;33m\u001b[0m\u001b[0m\n\u001b[0;32m    381\u001b[0m     \u001b[1;32mif\u001b[0m \u001b[1;32mnot\u001b[0m \u001b[0mis_recursion_error\u001b[0m\u001b[1;33m(\u001b[0m\u001b[0metype\u001b[0m\u001b[1;33m,\u001b[0m \u001b[0mvalue\u001b[0m\u001b[1;33m,\u001b[0m \u001b[0mrecords\u001b[0m\u001b[1;33m)\u001b[0m\u001b[1;33m:\u001b[0m\u001b[1;33m\u001b[0m\u001b[1;33m\u001b[0m\u001b[0m\n\u001b[1;32m--> 382\u001b[1;33m         \u001b[1;32mreturn\u001b[0m \u001b[0mlen\u001b[0m\u001b[1;33m(\u001b[0m\u001b[0mrecords\u001b[0m\u001b[1;33m)\u001b[0m\u001b[1;33m,\u001b[0m \u001b[1;36m0\u001b[0m\u001b[1;33m\u001b[0m\u001b[1;33m\u001b[0m\u001b[0m\n\u001b[0m\u001b[0;32m    383\u001b[0m \u001b[1;33m\u001b[0m\u001b[0m\n\u001b[0;32m    384\u001b[0m     \u001b[1;31m# Select filename, lineno, func_name to track frames with\u001b[0m\u001b[1;33m\u001b[0m\u001b[1;33m\u001b[0m\u001b[1;33m\u001b[0m\u001b[0m\n",
      "\u001b[1;31mTypeError\u001b[0m: object of type 'NoneType' has no len()"
     ]
    }
   ],
   "source": [
    "#Iterator using while loop\n",
    "#this program using while loop on iterator uses exit() function\n",
    "\n",
    "import sys \n",
    "num=[4,34,54,634,3,34,67,2,214,5,95,6,45,34,23,23,232]\n",
    "it =iter(num)\n",
    "while True:  # it is also called as infinite loop\n",
    "    try:\n",
    "        print(next(it))\n",
    "    except:\n",
    "        print('End  of program ')\n",
    "        sys.exit(0)"
   ]
  },
  {
   "cell_type": "markdown",
   "id": "747847bb",
   "metadata": {},
   "source": [
    "## Day12"
   ]
  },
  {
   "cell_type": "code",
   "execution_count": 1,
   "id": "7a2db772",
   "metadata": {},
   "outputs": [],
   "source": [
    "#Python sequence  and collections\n",
    "#There are string list tuple set dictionary 5 type of collection in python\n",
    "#List:\n",
    "#it is a collection of same or different data ,enclosed in squre bracket [ ]\n",
    "\n",
    "#List with same data type\n",
    "#num=[1,2,3,4,5,6]\n",
    "#name=['sanket','om','kumar']\n",
    "\n",
    "#List with different data type\n",
    "#st=['sanket',15,78.80,'pandas ','list']"
   ]
  },
  {
   "cell_type": "code",
   "execution_count": 13,
   "id": "ba43a7af",
   "metadata": {},
   "outputs": [
    {
     "name": "stdout",
     "output_type": "stream",
     "text": [
      "[1, 2, 3, 4, 5, 6, 7, 8, 9, 10]\n",
      "['chemistry', 'physics', 'math', 'DBMS', 'OS', 'Data Structure', 'Biology', 'Mechinal']\n"
     ]
    }
   ],
   "source": [
    "num=[1,2,3,4,5,6,7,8,9,10]\n",
    "sub=['chemistry','physics','math','DBMS','OS','Data Structure','Biology','Mechinal']\n",
    "print(num)\n",
    "print(sub)"
   ]
  },
  {
   "cell_type": "code",
   "execution_count": 14,
   "id": "886de95f",
   "metadata": {},
   "outputs": [
    {
     "name": "stdout",
     "output_type": "stream",
     "text": [
      "4\n"
     ]
    }
   ],
   "source": [
    "#Accessing  single Elements in list\n",
    "#Every item has index which alway start from 0 . you can access elements using index position \n",
    "print(num[3])"
   ]
  },
  {
   "cell_type": "code",
   "execution_count": 15,
   "id": "9803cd56",
   "metadata": {},
   "outputs": [
    {
     "name": "stdout",
     "output_type": "stream",
     "text": [
      "math\n",
      "math\n"
     ]
    }
   ],
   "source": [
    "print(sub[2]) #OR\n",
    "m=sub[2]\n",
    "print(m)"
   ]
  },
  {
   "cell_type": "code",
   "execution_count": 16,
   "id": "3ada21b0",
   "metadata": {},
   "outputs": [
    {
     "name": "stdout",
     "output_type": "stream",
     "text": [
      "7\n"
     ]
    }
   ],
   "source": [
    "sum1=num[3]+num[2] # you can do \n",
    "print(sum1)"
   ]
  },
  {
   "cell_type": "code",
   "execution_count": 17,
   "id": "a15e2ba1",
   "metadata": {},
   "outputs": [
    {
     "name": "stdout",
     "output_type": "stream",
     "text": [
      "[4, 5, 6]\n"
     ]
    }
   ],
   "source": [
    "#Accessing multiple  elements in the list or slicing of list \n",
    "print(num[3:6])\n"
   ]
  },
  {
   "cell_type": "code",
   "execution_count": 18,
   "id": "c7d2ff11",
   "metadata": {},
   "outputs": [
    {
     "name": "stdout",
     "output_type": "stream",
     "text": [
      "['physics', 'math', 'DBMS', 'OS']\n"
     ]
    }
   ],
   "source": [
    "print(sub[1:5])"
   ]
  },
  {
   "cell_type": "code",
   "execution_count": 30,
   "id": "563068f8",
   "metadata": {},
   "outputs": [
    {
     "name": "stdout",
     "output_type": "stream",
     "text": [
      "chemistry , physics , math , DBMS , OS , Data Structure , Biology , Mechinal , "
     ]
    }
   ],
   "source": [
    "#Accessing data of list using loops\n",
    "for i in sub:\n",
    "    print(i,end=\" , \")"
   ]
  },
  {
   "cell_type": "code",
   "execution_count": 31,
   "id": "4f669be7",
   "metadata": {},
   "outputs": [
    {
     "name": "stdout",
     "output_type": "stream",
     "text": [
      "1 2 3 4 5 6 7 8 9 10 "
     ]
    }
   ],
   "source": [
    "for i in num:\n",
    "    print(i ,end=\" \")"
   ]
  },
  {
   "cell_type": "code",
   "execution_count": 32,
   "id": "a01ffc3d",
   "metadata": {},
   "outputs": [
    {
     "name": "stdout",
     "output_type": "stream",
     "text": [
      "chemistry ,physics ,math ,DBMS ,OS ,Data Structure ,Biology ,Mechinal ,"
     ]
    }
   ],
   "source": [
    "#Accessing elements using iterator \n",
    "it=iter(sub)\n",
    "for i in it:\n",
    "    print(i,end=\" ,\")"
   ]
  },
  {
   "cell_type": "code",
   "execution_count": 29,
   "id": "3eac966c",
   "metadata": {},
   "outputs": [
    {
     "name": "stdout",
     "output_type": "stream",
     "text": [
      "1 2 3 4 5 6 7 8 9 10 "
     ]
    }
   ],
   "source": [
    "it=iter(num)\n",
    "for i in it:\n",
    "    print(i,end=\" \")"
   ]
  },
  {
   "cell_type": "code",
   "execution_count": 33,
   "id": "752c6c4d",
   "metadata": {},
   "outputs": [
    {
     "name": "stdout",
     "output_type": "stream",
     "text": [
      "[1, 2, 3, 4, 5, 6, 7, 8, 9, 10]\n",
      "['chemistry', 'physics', 'math', 'DBMS', 'OS', 'Data Structure', 'Biology', 'Mechinal']\n"
     ]
    }
   ],
   "source": [
    "#Changing value of element in list\n",
    "num=[1,2,3,4,5,6,7,8,9,10]\n",
    "sub=['chemistry','physics','math','DBMS','OS','Data Structure','Biology','Mechinal']\n",
    "print(num)\n",
    "print(sub)"
   ]
  },
  {
   "cell_type": "code",
   "execution_count": 36,
   "id": "89141027",
   "metadata": {},
   "outputs": [
    {
     "name": "stdout",
     "output_type": "stream",
     "text": [
      "['chemistry', 'physics', 'math', 'Data Base Management System', 'OS', 'Data Structure', 'Biology', 'Mechinal']\n"
     ]
    }
   ],
   "source": [
    "sub[3]='Data Base Management System'\n",
    "\n",
    "print(sub)"
   ]
  },
  {
   "cell_type": "code",
   "execution_count": 37,
   "id": "70926c39",
   "metadata": {},
   "outputs": [],
   "source": [
    "#Built-in-function is python\n",
    "#len(list) it will give lenght of list\n",
    "#max(list) it will give max element in list\n",
    "#min(list) it will give min element in list\n",
    "#list(collection)"
   ]
  },
  {
   "cell_type": "code",
   "execution_count": 39,
   "id": "3778a549",
   "metadata": {},
   "outputs": [
    {
     "name": "stdout",
     "output_type": "stream",
     "text": [
      "10\n"
     ]
    }
   ],
   "source": [
    "print(len(num))"
   ]
  },
  {
   "cell_type": "code",
   "execution_count": 40,
   "id": "25c3dfe3",
   "metadata": {},
   "outputs": [
    {
     "name": "stdout",
     "output_type": "stream",
     "text": [
      "8\n"
     ]
    }
   ],
   "source": [
    "print(len(sub))"
   ]
  },
  {
   "cell_type": "code",
   "execution_count": 41,
   "id": "dd25c1bb",
   "metadata": {},
   "outputs": [
    {
     "name": "stdout",
     "output_type": "stream",
     "text": [
      "10\n"
     ]
    }
   ],
   "source": [
    "print(max(num))"
   ]
  },
  {
   "cell_type": "code",
   "execution_count": 43,
   "id": "0adac3e1",
   "metadata": {},
   "outputs": [
    {
     "name": "stdout",
     "output_type": "stream",
     "text": [
      "physics\n"
     ]
    }
   ],
   "source": [
    "print(max(sub)) # it is giving physics cause it is giving preference of alphabet"
   ]
  },
  {
   "cell_type": "code",
   "execution_count": 44,
   "id": "7f11e0c4",
   "metadata": {},
   "outputs": [
    {
     "name": "stdout",
     "output_type": "stream",
     "text": [
      "1\n",
      "Biology\n"
     ]
    }
   ],
   "source": [
    "print(min(num))\n",
    "print(min(sub))"
   ]
  },
  {
   "cell_type": "code",
   "execution_count": 53,
   "id": "62a0f81f",
   "metadata": {},
   "outputs": [
    {
     "name": "stdout",
     "output_type": "stream",
     "text": [
      "<class 'tuple'>\n",
      "\n"
     ]
    }
   ],
   "source": [
    "color=(1,2,3,4,5,6,7)\n",
    "print(type(color))\n",
    "print()"
   ]
  },
  {
   "cell_type": "code",
   "execution_count": 54,
   "id": "470cf96e",
   "metadata": {},
   "outputs": [
    {
     "name": "stdout",
     "output_type": "stream",
     "text": [
      "[1, 2, 3, 4, 5, 6, 7]\n",
      "<class 'tuple'>\n"
     ]
    }
   ],
   "source": [
    "print(list(color))\n",
    "print(type(color))"
   ]
  },
  {
   "cell_type": "code",
   "execution_count": 55,
   "id": "9dc0dc03",
   "metadata": {},
   "outputs": [
    {
     "name": "stdout",
     "output_type": "stream",
     "text": [
      "[1, 2, 3, 4, 5, 6, 7]\n",
      "<class 'list'>\n"
     ]
    }
   ],
   "source": [
    "#Now we need to convert data type tuple into list\n",
    "colorlist=list(color)\n",
    "print(list(color))\n",
    "print(type(colorlist))"
   ]
  },
  {
   "cell_type": "markdown",
   "id": "121a8b60",
   "metadata": {},
   "source": [
    "## Day13\n"
   ]
  },
  {
   "cell_type": "code",
   "execution_count": 1,
   "id": "16e50444",
   "metadata": {},
   "outputs": [],
   "source": [
    "#Built-in-Methods\n",
    "#There is a difference between function and methods the methods are used by list name and a dot operator and function name\n",
    "#is directly written which passes the list\n",
    "#e.g sub.append()"
   ]
  },
  {
   "cell_type": "code",
   "execution_count": 2,
   "id": "5bcfb5d5",
   "metadata": {},
   "outputs": [],
   "source": [
    "num=[21,23,32,678,23,5675,12,7546,23,123,43]"
   ]
  },
  {
   "cell_type": "code",
   "execution_count": 3,
   "id": "5a194fe5",
   "metadata": {},
   "outputs": [
    {
     "name": "stdout",
     "output_type": "stream",
     "text": [
      "Without append : [21, 23, 32, 678, 23, 5675, 12, 7546, 23, 123, 43]\n",
      "\n",
      "With append method : [21, 23, 32, 678, 23, 5675, 12, 7546, 23, 123, 43, 'sanket']\n"
     ]
    }
   ],
   "source": [
    "#append:append it added a new item at the end of list:\n",
    "print(\"Without append :\",num)\n",
    "num.append('sanket')\n",
    "print()\n",
    "print(\"With append method :\",num)"
   ]
  },
  {
   "cell_type": "code",
   "execution_count": 6,
   "id": "f93df7dc",
   "metadata": {},
   "outputs": [
    {
     "name": "stdout",
     "output_type": "stream",
     "text": [
      "7\n",
      "2\n"
     ]
    }
   ],
   "source": [
    "#count(item) : it will count the item , that how many times it repeating the item\n",
    "num=[1,2,3,4,5,6,2,4,2,2,3,47,8,9,2,46,2,2]\n",
    "print(num.count(2))\n",
    "print(num.count(3))\n"
   ]
  },
  {
   "cell_type": "code",
   "execution_count": 7,
   "id": "4f4a3b66",
   "metadata": {},
   "outputs": [],
   "source": [
    "#extend(list): it will join two list append content of one list to another list"
   ]
  },
  {
   "cell_type": "code",
   "execution_count": 1,
   "id": "65600b76",
   "metadata": {},
   "outputs": [
    {
     "name": "stdout",
     "output_type": "stream",
     "text": [
      "['sanket', 'om', 'vedant', 'kartik', 'anurag']\n",
      "['red', 'blue', 'white', 'black', 'green']\n",
      "\n",
      "['red', 'blue', 'white', 'black', 'green', 'sanket', 'om', 'vedant', 'kartik', 'anurag']\n",
      "\n",
      "['sanket', 'om', 'vedant', 'kartik', 'anurag', 'red', 'blue', 'white', 'black', 'green', 'sanket', 'om', 'vedant', 'kartik', 'anurag']\n"
     ]
    }
   ],
   "source": [
    "name=['sanket','om','vedant','kartik','anurag']\n",
    "\n",
    "color=['red','blue','white','black','green']\n",
    "\n",
    "print(name)\n",
    "print(color)\n",
    "print()\n",
    "color.extend(name)\n",
    "print(color)\n",
    "print()\n",
    "name.extend(color)\n",
    "print(name)\n"
   ]
  },
  {
   "cell_type": "markdown",
   "id": "072e9988",
   "metadata": {},
   "source": [
    "## Day14"
   ]
  },
  {
   "cell_type": "code",
   "execution_count": 2,
   "id": "bf857a58",
   "metadata": {},
   "outputs": [],
   "source": [
    "#Tuple\n",
    "#it is immutable data \n",
    "#the tuple remain static or fixed\n",
    "#the data in the tuple can not be added or removed\n",
    "#tuple are also sequence just like list\n",
    "#the data in the tuple can not be added or removed"
   ]
  },
  {
   "cell_type": "code",
   "execution_count": 13,
   "id": "93a28c1c",
   "metadata": {},
   "outputs": [
    {
     "name": "stdout",
     "output_type": "stream",
     "text": [
      "('math', 'marathi', 'science', 'geography', 'biology', 'physics', 'english', 'chemistry')\n",
      "\n",
      "marathi\n",
      "('geography', 'biology', 'physics')\n"
     ]
    }
   ],
   "source": [
    "tuple=(1,2,3,4,5,6,7,8,9)\n",
    "sun=('math','marathi','science','geography','biology','physics','english','chemistry')\n",
    "print(sun)\n",
    "print()\n",
    "#Accessing tuple\n",
    "print(sun[1])\n",
    "print(sun[3:6])\n"
   ]
  },
  {
   "cell_type": "code",
   "execution_count": 14,
   "id": "37ad3507",
   "metadata": {},
   "outputs": [
    {
     "name": "stdout",
     "output_type": "stream",
     "text": [
      "math marathi science geography biology physics english chemistry "
     ]
    }
   ],
   "source": [
    "#printing value of tuple using loop\n",
    "for i in sun:\n",
    "    print(i,end=' ')"
   ]
  },
  {
   "cell_type": "code",
   "execution_count": 15,
   "id": "f2bd0bfa",
   "metadata": {},
   "outputs": [
    {
     "name": "stdout",
     "output_type": "stream",
     "text": [
      "math\n",
      "marathi\n",
      "science\n",
      "geography\n",
      "biology\n",
      "physics\n",
      "english\n",
      "chemistry\n"
     ]
    }
   ],
   "source": [
    "sub1=iter(sun)\n",
    "for i in sub1:\n",
    "    print(i)"
   ]
  },
  {
   "cell_type": "code",
   "execution_count": 22,
   "id": "da67d453",
   "metadata": {},
   "outputs": [],
   "source": [
    "#Adding two tuple \n",
    "#tuple can be added into a new tuple by using +(addition of two tuple )\n",
    "#data can not be added into directly and printed using tuple cause it is immutable "
   ]
  },
  {
   "cell_type": "code",
   "execution_count": 23,
   "id": "922da013",
   "metadata": {},
   "outputs": [
    {
     "name": "stdout",
     "output_type": "stream",
     "text": [
      "('math', 'marathi', 'science', 'geography', 'biology', 'physics', 'english', 'chemistry', 1, 2, 3, 4, 5, 6, 7, 8, 9)\n"
     ]
    }
   ],
   "source": [
    "tuple=(1,2,3,4,5,6,7,8,9)\n",
    "sun=('math','marathi','science','geography','biology','physics','english','chemistry')\n",
    "suntuple=sun+tuple\n",
    "print(suntuple)"
   ]
  },
  {
   "cell_type": "code",
   "execution_count": 24,
   "id": "89a9eccc",
   "metadata": {},
   "outputs": [],
   "source": [
    "#deleting tuple\n",
    "del suntuple\n",
    "#print(suntuple) it will give error NameError"
   ]
  },
  {
   "cell_type": "code",
   "execution_count": 25,
   "id": "214b3c31",
   "metadata": {},
   "outputs": [
    {
     "name": "stdout",
     "output_type": "stream",
     "text": [
      "('math', 'marathi', 'science', 'geography', 'biology', 'physics', 'english', 'chemistry', 'math', 'marathi', 'science', 'geography', 'biology', 'physics', 'english', 'chemistry')\n"
     ]
    }
   ],
   "source": [
    "#Basic operation\n",
    "sun=('math','marathi','science','geography','biology','physics','english','chemistry')\n",
    "sb2=sun*2\n",
    "print(sb2)\n"
   ]
  },
  {
   "cell_type": "code",
   "execution_count": 29,
   "id": "8b036eba",
   "metadata": {},
   "outputs": [
    {
     "name": "stdout",
     "output_type": "stream",
     "text": [
      "9\n",
      "8\n",
      "\n",
      "9\n",
      "science\n",
      "\n",
      "1\n",
      "biology\n"
     ]
    }
   ],
   "source": [
    "tuple=(1,2,3,4,5,6,7,8,9)\n",
    "sun=('math','marathi','science','geography','biology','physics','english','chemistry')\n",
    "print(len(tuple))\n",
    "print(len(sun))\n",
    "print()\n",
    "print(max(tuple))\n",
    "print(max(sun))\n",
    "print()\n",
    "print(min(tuple))\n",
    "print(min(sun))"
   ]
  },
  {
   "cell_type": "code",
   "execution_count": 30,
   "id": "adeb8651",
   "metadata": {},
   "outputs": [
    {
     "name": "stdout",
     "output_type": "stream",
     "text": [
      "{'name': 'shan chi', 'roll no': '648', 'post': 'actor', 'movie': 'marvel shan chi'}\n"
     ]
    }
   ],
   "source": [
    "#Dictionary\n",
    "#it is a mapping type of collection ,it contain 'key-value' pair where key is like a variable and value is data\n",
    "#key represent a index,\n",
    "empl={'name':'shan chi','roll no':'648','post':'actor','movie':'marvel shan chi'}\n",
    "print(empl)"
   ]
  },
  {
   "cell_type": "code",
   "execution_count": 12,
   "id": "0edf1e3b",
   "metadata": {},
   "outputs": [],
   "source": [
    "#We can't do slicing due to key's no numeric data is present in the dict"
   ]
  },
  {
   "cell_type": "markdown",
   "id": "f4bb1a46",
   "metadata": {},
   "source": [
    "## Day15"
   ]
  },
  {
   "cell_type": "code",
   "execution_count": 13,
   "id": "a3681022",
   "metadata": {},
   "outputs": [
    {
     "name": "stdout",
     "output_type": "stream",
     "text": [
      "{'name': 'shan chi', 'roll no': '648', 'post': 'actor', 'movie': 'marvel shan chi'}\n"
     ]
    }
   ],
   "source": [
    "#Accesing data in the dictionary\n",
    "empl={'name':'shan chi','roll no':'648','post':'actor','movie':'marvel shan chi'}\n",
    "print(empl)\n"
   ]
  },
  {
   "cell_type": "code",
   "execution_count": 14,
   "id": "da08a763",
   "metadata": {},
   "outputs": [
    {
     "name": "stdout",
     "output_type": "stream",
     "text": [
      "shan chi\n"
     ]
    }
   ],
   "source": [
    "#Accesing single data or key's in the dict\n",
    "print(empl['name'])"
   ]
  },
  {
   "cell_type": "code",
   "execution_count": 15,
   "id": "a1b69c31",
   "metadata": {},
   "outputs": [
    {
     "name": "stdout",
     "output_type": "stream",
     "text": [
      "marvel shan chi\n"
     ]
    }
   ],
   "source": [
    "print(empl['movie'])"
   ]
  },
  {
   "cell_type": "code",
   "execution_count": 16,
   "id": "ddb2c463",
   "metadata": {},
   "outputs": [
    {
     "name": "stdout",
     "output_type": "stream",
     "text": [
      "{'name': 'shan chi', 'roll no': '648', 'post': 'actor', 'movie': 'marvel shan chi'}\n"
     ]
    }
   ],
   "source": [
    "#Adding new data in the dictionary\n",
    "empl={'name':'shan chi','roll no':'648','post':'actor','movie':'marvel shan chi'}\n",
    "print(empl)\n"
   ]
  },
  {
   "cell_type": "code",
   "execution_count": 19,
   "id": "60d27d63",
   "metadata": {},
   "outputs": [],
   "source": [
    "empl['age']=26"
   ]
  },
  {
   "cell_type": "code",
   "execution_count": 20,
   "id": "a570ef97",
   "metadata": {},
   "outputs": [
    {
     "name": "stdout",
     "output_type": "stream",
     "text": [
      "{'name': 'shan chi', 'roll no': '648', 'post': 'actor', 'movie': 'marvel shan chi', 'cap': 'des', 'age': 26}\n"
     ]
    }
   ],
   "source": [
    "print(empl)"
   ]
  },
  {
   "cell_type": "code",
   "execution_count": 21,
   "id": "6770724d",
   "metadata": {},
   "outputs": [],
   "source": [
    "empl['marks']='95 %'"
   ]
  },
  {
   "cell_type": "code",
   "execution_count": 22,
   "id": "c24c026e",
   "metadata": {},
   "outputs": [],
   "source": [
    "empl['email']='sangchi@gamil.com'"
   ]
  },
  {
   "cell_type": "code",
   "execution_count": 24,
   "id": "9879a92b",
   "metadata": {},
   "outputs": [
    {
     "name": "stdout",
     "output_type": "stream",
     "text": [
      "{'name': 'shan chi', 'roll no': '648', 'post': 'actor', 'movie': 'marvel shan chi', 'cap': 'des', 'age': 26, 'marks': '95 %', 'email': 'sangchi@gamil.com'}\n"
     ]
    }
   ],
   "source": [
    "print(empl)"
   ]
  },
  {
   "cell_type": "code",
   "execution_count": 25,
   "id": "8520074c",
   "metadata": {},
   "outputs": [],
   "source": [
    "#deleting data into a dictionary\n",
    "del empl['roll no']\n"
   ]
  },
  {
   "cell_type": "code",
   "execution_count": 26,
   "id": "dbcecd98",
   "metadata": {},
   "outputs": [
    {
     "name": "stdout",
     "output_type": "stream",
     "text": [
      "{'name': 'shan chi', 'post': 'actor', 'movie': 'marvel shan chi', 'cap': 'des', 'age': 26, 'marks': '95 %', 'email': 'sangchi@gamil.com'}\n"
     ]
    }
   ],
   "source": [
    "print(empl)"
   ]
  },
  {
   "cell_type": "code",
   "execution_count": 27,
   "id": "3ba6aaf1",
   "metadata": {},
   "outputs": [],
   "source": [
    "del  empl"
   ]
  },
  {
   "cell_type": "code",
   "execution_count": 28,
   "id": "43fe37df",
   "metadata": {},
   "outputs": [],
   "source": [
    "#print(empl) it will give error \n"
   ]
  },
  {
   "cell_type": "code",
   "execution_count": 29,
   "id": "7b870463",
   "metadata": {},
   "outputs": [],
   "source": [
    "#clear method it will del whole dictionary but it will give the empty dictionary\n",
    "dict1={1:'sanket',2:'ramesh',3:'Sarvesh',4:'Nilesh'}\n",
    "dict1.clear() "
   ]
  },
  {
   "cell_type": "code",
   "execution_count": 30,
   "id": "63a878f6",
   "metadata": {},
   "outputs": [
    {
     "data": {
      "text/plain": [
       "{}"
      ]
     },
     "execution_count": 30,
     "metadata": {},
     "output_type": "execute_result"
    }
   ],
   "source": [
    "dict1"
   ]
  },
  {
   "cell_type": "code",
   "execution_count": 31,
   "id": "701c7c4a",
   "metadata": {},
   "outputs": [
    {
     "name": "stdout",
     "output_type": "stream",
     "text": [
      "{'name': 'shan chi', 'roll no': '648', 'post': 'actor', 'movie': 'marvel shan chi'}\n"
     ]
    }
   ],
   "source": [
    "#dictionary built-in function\n",
    "empl={'name':'shan chi','roll no':'648','post':'actor','movie':'marvel shan chi'}\n",
    "print(empl)"
   ]
  },
  {
   "cell_type": "code",
   "execution_count": 32,
   "id": "0f5669c6",
   "metadata": {},
   "outputs": [
    {
     "data": {
      "text/plain": [
       "4"
      ]
     },
     "execution_count": 32,
     "metadata": {},
     "output_type": "execute_result"
    }
   ],
   "source": [
    "len(empl)"
   ]
  },
  {
   "cell_type": "code",
   "execution_count": 33,
   "id": "6bc1b432",
   "metadata": {},
   "outputs": [
    {
     "name": "stdout",
     "output_type": "stream",
     "text": [
      "roll no\n"
     ]
    }
   ],
   "source": [
    "print(max(empl))\n"
   ]
  },
  {
   "cell_type": "code",
   "execution_count": 34,
   "id": "901f9ab8",
   "metadata": {},
   "outputs": [
    {
     "name": "stdout",
     "output_type": "stream",
     "text": [
      "movie\n"
     ]
    }
   ],
   "source": [
    "print(min(empl))"
   ]
  },
  {
   "cell_type": "code",
   "execution_count": 36,
   "id": "54bcac25",
   "metadata": {},
   "outputs": [
    {
     "name": "stdout",
     "output_type": "stream",
     "text": [
      "{'name': 'shan chi', 'roll no': '648', 'post': 'actor', 'movie': 'marvel shan chi'}\n"
     ]
    }
   ],
   "source": [
    "#Converting dictionary into string\n",
    "print(empl)"
   ]
  },
  {
   "cell_type": "code",
   "execution_count": 38,
   "id": "71fc53e8",
   "metadata": {},
   "outputs": [],
   "source": [
    "str1=str(empl)"
   ]
  },
  {
   "cell_type": "code",
   "execution_count": 39,
   "id": "01975edc",
   "metadata": {},
   "outputs": [
    {
     "name": "stdout",
     "output_type": "stream",
     "text": [
      "{'name': 'shan chi', 'roll no': '648', 'post': 'actor', 'movie': 'marvel shan chi'}\n"
     ]
    }
   ],
   "source": [
    "print(str1)"
   ]
  },
  {
   "cell_type": "code",
   "execution_count": 43,
   "id": "6d66a912",
   "metadata": {},
   "outputs": [
    {
     "name": "stdout",
     "output_type": "stream",
     "text": [
      "<class 'dict'>\n",
      "<class 'str'>\n"
     ]
    }
   ],
   "source": [
    "#how to check which is dictionary and which is string \n",
    "# there are two methods to check this \n",
    "#1.checking data type\n",
    "print(type(empl))\n",
    "\n",
    "print(type(str1))"
   ]
  },
  {
   "cell_type": "code",
   "execution_count": 44,
   "id": "134ff97a",
   "metadata": {},
   "outputs": [
    {
     "name": "stdout",
     "output_type": "stream",
     "text": [
      "4\n"
     ]
    }
   ],
   "source": [
    "#2.checking length of dictionary and string  \n",
    "print(len(empl))"
   ]
  },
  {
   "cell_type": "code",
   "execution_count": 45,
   "id": "8377083f",
   "metadata": {},
   "outputs": [
    {
     "name": "stdout",
     "output_type": "stream",
     "text": [
      "83\n"
     ]
    }
   ],
   "source": [
    "print(len(str1))"
   ]
  },
  {
   "cell_type": "markdown",
   "id": "6f180cbb",
   "metadata": {},
   "source": [
    "## Day16"
   ]
  },
  {
   "cell_type": "code",
   "execution_count": 3,
   "id": "b0b1093c",
   "metadata": {},
   "outputs": [],
   "source": [
    "#Copy methods\n",
    "empl={'name':'shan chi','roll no':'648','post':'actor','movie':'marvel shan chi'}\n",
    "\n",
    "empl1=empl.copy()\n"
   ]
  },
  {
   "cell_type": "code",
   "execution_count": 4,
   "id": "98b82704",
   "metadata": {},
   "outputs": [
    {
     "name": "stdout",
     "output_type": "stream",
     "text": [
      "{'name': 'shan chi', 'roll no': '648', 'post': 'actor', 'movie': 'marvel shan chi'}\n"
     ]
    }
   ],
   "source": [
    "print(empl1)"
   ]
  },
  {
   "cell_type": "code",
   "execution_count": 10,
   "id": "bd6607b7",
   "metadata": {},
   "outputs": [
    {
     "name": "stdout",
     "output_type": "stream",
     "text": [
      "shan chi\n",
      "shan chi\n"
     ]
    }
   ],
   "source": [
    "print(empl['name'])\n",
    "print(empl.get('name'))"
   ]
  },
  {
   "cell_type": "code",
   "execution_count": 9,
   "id": "009b12c0",
   "metadata": {},
   "outputs": [
    {
     "name": "stdout",
     "output_type": "stream",
     "text": [
      "None\n"
     ]
    }
   ],
   "source": [
    "#get methods\n",
    "print(empl.get('rollno')) #if key is not present in the collection it will not give error just print None\n",
    "#print(empl['rollno']) #this will give error if key is not present in the collection"
   ]
  },
  {
   "cell_type": "code",
   "execution_count": 17,
   "id": "0fe80523",
   "metadata": {},
   "outputs": [
    {
     "name": "stdout",
     "output_type": "stream",
     "text": [
      "dict_items([('name', 'shan chi'), ('roll no', '648'), ('post', 'actor'), ('movie', 'marvel shan chi')])\n",
      "\n",
      "name : shan chi\n",
      "roll no : 648\n",
      "post : actor\n",
      "movie : marvel shan chi\n"
     ]
    }
   ],
   "source": [
    "#items() : it will give items present in the list.\n",
    "print(empl.items())\n",
    "print()\n",
    "for i,j in empl.items():\n",
    "    print(i,':',j)"
   ]
  },
  {
   "cell_type": "code",
   "execution_count": 18,
   "id": "27a5eaa1",
   "metadata": {},
   "outputs": [
    {
     "name": "stdout",
     "output_type": "stream",
     "text": [
      "dict_keys(['name', 'roll no', 'post', 'movie'])\n",
      "\n",
      "name\n",
      "roll no\n",
      "post\n",
      "movie\n"
     ]
    }
   ],
   "source": [
    "#keys() : it will gives keys present in the dict\n",
    "print(empl.keys())\n",
    "print()\n",
    "for i in empl.keys():\n",
    "    print(i)"
   ]
  },
  {
   "cell_type": "code",
   "execution_count": 19,
   "id": "f5e6ebef",
   "metadata": {},
   "outputs": [
    {
     "name": "stdout",
     "output_type": "stream",
     "text": [
      "dict_values(['shan chi', '648', 'actor', 'marvel shan chi'])\n",
      "\n",
      "shan chi\n",
      "648\n",
      "actor\n",
      "marvel shan chi\n"
     ]
    }
   ],
   "source": [
    "#values(): it will gives values present in the dict\n",
    "print(empl.values())\n",
    "print()\n",
    "for i in empl.values():\n",
    "    print(i)"
   ]
  },
  {
   "cell_type": "code",
   "execution_count": 22,
   "id": "17502a1c",
   "metadata": {},
   "outputs": [
    {
     "name": "stdout",
     "output_type": "stream",
     "text": [
      "{'name': 'kartik', 'roll no': '648', 'post': 'actor', 'movie': 'marvel shan chi', 'age': 21, 'gender': 'male', 'exp': '5 years'}\n"
     ]
    }
   ],
   "source": [
    "#update():it will update the dict in the end of list :\n",
    "\n",
    "\n",
    "empl={'name':'shan chi','roll no':'648','post':'actor','movie':'marvel shan chi'}\n",
    "bio_data={'name':'kartik','age':21,'gender':'male','exp':'5 years'}\n",
    "empl.update(bio_data)\n",
    "print(empl)"
   ]
  },
  {
   "cell_type": "code",
   "execution_count": 68,
   "id": "c001b131",
   "metadata": {},
   "outputs": [
    {
     "name": "stdout",
     "output_type": "stream",
     "text": [
      "<class 'set'>\n"
     ]
    }
   ],
   "source": [
    "#SET\n",
    "# set  is a collection of same data type or different which is un-ordered and un-index .It is almost like list and it is\n",
    "#mutable . It is written in the {}  curly braces\n",
    "#There is no index and no index present in the set,hence we can't use indexing and slicling\n",
    "\n",
    "name={'Sanket','Kartik','Vedant','Anurag','apple','banana','cherry'}\n",
    "print(type(name))"
   ]
  },
  {
   "cell_type": "code",
   "execution_count": 69,
   "id": "29ebe951",
   "metadata": {},
   "outputs": [
    {
     "name": "stdout",
     "output_type": "stream",
     "text": [
      "{'banana', 'Kartik', 'Sanket', 'Anurag', 'Vedant', 'cherry', 'apple'}\n",
      "banana\n",
      "Kartik\n",
      "Sanket\n",
      "Anurag\n",
      "Vedant\n",
      "cherry\n",
      "apple\n"
     ]
    }
   ],
   "source": [
    "print(name)\n",
    "for i in name:\n",
    "    print(i)"
   ]
  },
  {
   "cell_type": "code",
   "execution_count": 70,
   "id": "a217d527",
   "metadata": {},
   "outputs": [
    {
     "name": "stdout",
     "output_type": "stream",
     "text": [
      "{'banana', 'Kartik', 'Sanket', 'Anurag', 'Vedant', 'orange', 'cherry', 'apple'}\n"
     ]
    }
   ],
   "source": [
    "#Adding items in the set\n",
    "name.add('orange')\n",
    "print(name)"
   ]
  },
  {
   "cell_type": "code",
   "execution_count": 71,
   "id": "be32cf19",
   "metadata": {},
   "outputs": [
    {
     "name": "stdout",
     "output_type": "stream",
     "text": [
      "{'english', 'geography', 'banana', 'Kartik', 'Sanket', 'history', 'civis', 'Anurag', 'marathi', 'Vedant', 'orange', 'cherry', 'math', 'apple'}\n"
     ]
    }
   ],
   "source": [
    "#Update data in the set\n",
    "sub={'math','marathi','english','history','geography','civis'}\n",
    "name.update(sub)\n",
    "print(name)"
   ]
  },
  {
   "cell_type": "code",
   "execution_count": 72,
   "id": "b9eeb22a",
   "metadata": {},
   "outputs": [
    {
     "name": "stdout",
     "output_type": "stream",
     "text": [
      "14\n"
     ]
    }
   ],
   "source": [
    "#len()\n",
    "print(len(name))"
   ]
  },
  {
   "cell_type": "code",
   "execution_count": 73,
   "id": "2a821bb1",
   "metadata": {},
   "outputs": [
    {
     "name": "stdout",
     "output_type": "stream",
     "text": [
      "orange\n"
     ]
    }
   ],
   "source": [
    "#max()\n",
    "print(max(name))"
   ]
  },
  {
   "cell_type": "code",
   "execution_count": 74,
   "id": "c9ae1bdf",
   "metadata": {},
   "outputs": [
    {
     "name": "stdout",
     "output_type": "stream",
     "text": [
      "Anurag\n"
     ]
    }
   ],
   "source": [
    "#min()\n",
    "print(min(name))"
   ]
  },
  {
   "cell_type": "code",
   "execution_count": null,
   "id": "9087fca5",
   "metadata": {},
   "outputs": [],
   "source": [
    "#remove:it will give errror when element is not present in the set\n",
    "#discard: it will not give error when element is not present in the set\n",
    "#pop: it remove the element from the 1st index\n",
    "#clear: it will remove all the items in the set\n",
    "#del:it will delete whole set if you print it after delete then it will give error\n"
   ]
  },
  {
   "cell_type": "code",
   "execution_count": null,
   "id": "a7565876",
   "metadata": {},
   "outputs": [],
   "source": []
  }
 ],
 "metadata": {
  "kernelspec": {
   "display_name": "Python 3 (ipykernel)",
   "language": "python",
   "name": "python3"
  },
  "language_info": {
   "codemirror_mode": {
    "name": "ipython",
    "version": 3
   },
   "file_extension": ".py",
   "mimetype": "text/x-python",
   "name": "python",
   "nbconvert_exporter": "python",
   "pygments_lexer": "ipython3",
   "version": "3.8.12"
  }
 },
 "nbformat": 4,
 "nbformat_minor": 5
}
